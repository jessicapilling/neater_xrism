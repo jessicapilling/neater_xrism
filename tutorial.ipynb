{
 "cells": [
  {
   "cell_type": "markdown",
   "metadata": {},
   "source": [
    "# First step\n",
    "Go to conf.py and edit the path to where you want any outputs saved."
   ]
  },
  {
   "cell_type": "code",
   "execution_count": null,
   "metadata": {},
   "outputs": [],
   "source": [
    "# Import statements\n",
    "from subprocess import Popen, PIPE\n",
    "from astropy.io import fits\n",
    "import matplotlib.pyplot as plt\n",
    "import numpy as np\n",
    "import heasoftpy as hsp\n",
    "\n",
    "from resolve import run_rslbratios\n",
    "from classes import EventList, XRISMSource\n",
    "from phot import make_image\n",
    "from timing import make_lc\n",
    "from spec import make_spectra_inc_rsp_and_nxb"
   ]
  },
  {
   "cell_type": "markdown",
   "metadata": {},
   "source": [
    "# Re-run the pipeline\n",
    "If the calibration database is updated it is reccomended to re-run the pipeline, so that's what I will do for resolve, as this calibration was updated in March"
   ]
  },
  {
   "cell_type": "code",
   "execution_count": null,
   "metadata": {},
   "outputs": [],
   "source": [
    "instrument = 'RESOLVE'\n",
    "indir = '/Users/jp735/Desktop/Geneva/data/3C273/000145000/'\n",
    "outdir = '/Volumes/Seagate/xapipeline/'\n",
    "steminputs = 'xa000145000'\n",
    "stemoutputs = 'DEFAULT'\n",
    "entrystage = '1' # Start from recalibrating unfiltered event files\n",
    "exitstage = '2' # dont bother making quick look product\n",
    "verify_input = 'no'\n",
    "\n",
    "cmd = (\"cd /Volumes/Seagate/; \"\n",
    "       \"source ~/headas.sh; \"\n",
    "       \"export HEADASNOQUERY= ; \"\n",
    "       \"export HEADASPROMPT=/dev/null; \"\n",
    "       f\"xapipeline indir={indir} outdir={outdir} steminputs={steminputs} stemoutputs={stemoutputs} \"\n",
    "       f\"entry_stage={entrystage} exit_stage={exitstage} instrument={instrument} \" \n",
    "       f\"verify_input={verify_input} clobber=yes\")\n",
    "\n",
    "print(cmd)"
   ]
  },
  {
   "cell_type": "code",
   "execution_count": null,
   "metadata": {},
   "outputs": [],
   "source": [
    "out, err = Popen(cmd, shell=True, stdout=PIPE, stderr=PIPE).communicate()\n",
    "out = out.decode(\"UTF-8\", errors='ignore')\n",
    "err = err.decode(\"UTF-8\", errors='ignore')\n",
    "print(out)\n",
    "print(err)"
   ]
  },
  {
   "cell_type": "code",
   "execution_count": null,
   "metadata": {},
   "outputs": [],
   "source": [
    "# edit this to the new evt list wherever you reran the pipeline\n",
    "evt_path = \"/Volumes/Seagate/xapipeline/xa000145000rsl_p0px1000_cl.evt\""
   ]
  },
  {
   "cell_type": "markdown",
   "metadata": {},
   "source": [
    "# Gain Reports\n",
    "Before you start any product generation, you need to look at the resolve gain reports to double check if you need to exclude any pixels.\n",
    "\n",
    "An example of some dodgy pixels in a gain report are below:"
   ]
  },
  {
   "cell_type": "markdown",
   "metadata": {},
   "source": [
    "![image](imgs/dodgy_report.png)"
   ]
  },
  {
   "cell_type": "markdown",
   "metadata": {},
   "source": [
    "You can find the gain reports here: https://heasarc.gsfc.nasa.gov/FTP/xrism/postlaunch/gainreports/"
   ]
  },
  {
   "cell_type": "markdown",
   "metadata": {},
   "source": [
    "# Now you can make products"
   ]
  },
  {
   "cell_type": "code",
   "execution_count": null,
   "metadata": {},
   "outputs": [],
   "source": [
    "OBSID = '000145000'\n",
    "SRC_RA = 187.272\n",
    "SRC_DEC = 2.054\n",
    "\n",
    "# should come from your re-run of the pipeline\n",
    "root_dir = '/Users/jp735/Desktop/Geneva/data/3c273'\n",
    "\n",
    "evt = EventList(evt_path, OBSID, 'resolve', 'open', root_dir)\n",
    "# should come from your re-run of the pipeline\n",
    "evt.ehkfile = \"/Volumes/Seagate/xapipeline/xa000145000.ehk\""
   ]
  },
  {
   "cell_type": "code",
   "execution_count": null,
   "metadata": {},
   "outputs": [],
   "source": [
    "# This is applying the recommended screening in the quick start guide for XRISM\n",
    "screened_evt = evt.screen(apply_rsl_rise_time=True, min_pi=600, status=[4])"
   ]
  },
  {
   "cell_type": "markdown",
   "metadata": {},
   "source": [
    "# Make lightcurve, images, and spectra\n",
    "Make sure to always exclude pixels 12 and 27, as well as any bad pixels identified in the gain report"
   ]
  },
  {
   "cell_type": "code",
   "execution_count": null,
   "metadata": {},
   "outputs": [],
   "source": [
    "# lightcurve\n",
    "# The pix_name argument is just a string for naming the files\n",
    "make_lc(screened_evt, \n",
    "        exclude_pix=[12, 27, 29], \n",
    "        pix_name='no29'\n",
    "        )"
   ]
  },
  {
   "cell_type": "code",
   "execution_count": null,
   "metadata": {},
   "outputs": [],
   "source": [
    "make_image(screened_evt,        \n",
    "           exclude_pix=[12, 27, 29], \n",
    "           pix_name='no29')"
   ]
  },
  {
   "cell_type": "code",
   "execution_count": null,
   "metadata": {},
   "outputs": [],
   "source": [
    "# These are downloadable from the nxb section of the XRISM website\n",
    "nxbfile = '/Users/jp735/Desktop/Geneva/data/nxb/merged_nxb_resolve_gtifix.evt'\n",
    "nxbehkfile = '/Users/jp735/Desktop/Geneva/data/nxb/merged_reduced_rev3_fix2.ehk'\n",
    "\n",
    "# This makes the arf and rmf which both take ages, so dont worry if \n",
    "# this step takes ~ 5-8 hours to run\n",
    "# There is a make_spectra argument that you can use if you just\n",
    "# want to quickly see a spectrum\n",
    "make_spectra_inc_rsp_and_nxb(screened_evt, SRC_RA, SRC_DEC, 'L', \n",
    "                            nxbfile=nxbfile,\n",
    "                            nxbehkfile=nxbehkfile,\n",
    "                            numphoton=300000,\n",
    "                            cortime=6,\n",
    "                            apply_rsl_rise_time=True, min_energy=600, status=[4],\n",
    "                            timefirst=730,\n",
    "                            exclude_pix=[12, 27, 29], \n",
    "                            pix_name='no29'\n",
    "                            )"
   ]
  }
 ],
 "metadata": {
  "language_info": {
   "name": "python"
  },
  "orig_nbformat": 4
 },
 "nbformat": 4,
 "nbformat_minor": 2
}
